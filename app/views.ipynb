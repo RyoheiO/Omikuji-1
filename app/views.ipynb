{
 "cells": [
  {
   "cell_type": "code",
   "execution_count": null,
   "metadata": {},
   "outputs": [],
   "source": [
    "import random\n",
    "from flask import Flask\n",
    "from flask import request, render_template\n",
    "# from app import OmikuziContent\n",
    "# from app import db_session\n",
    "# coding: utf-8\n",
    "app = Flask(__name__)\n",
    "omikuzi_list = [\"大吉\",\"中吉\",\"小吉\",\"吉\",\"半吉\",\"末吉\",\"凶\",\"大凶\",\"最恐\"]\n",
    "\n",
    "@app.route(\"/\",methods=[\"POST\",\"GET\"])\n",
    "def main():\n",
    "    return render_template(\"main.html\")\n",
    "\n",
    "@app.route(\"/index\",methods=[\"POST\",\"GET\"])\n",
    "def index():\n",
    "    if request.method == \"POST\":\n",
    "        a = random.choice(omikuzi_list)\n",
    "        return render_template(\"result.html\",a=a)\n",
    "    return render_template(\"index.html\")\n",
    "\n",
    "@app.route(\"/add\",methods=[\"POST\"])\n",
    "def post():\n",
    "    title = request.form[\"title\"]\n",
    "    body = request.form[\"body\"]\n",
    "    content = OmikuziContent(title,body)\n",
    "    db_session.add(content)\n",
    "    db_session.commit()\n",
    "    return self_omikuzi()\n",
    "\n",
    "@app.route(\"/self_omikuzi\",methods=[\"POST\",\"GET\"])\n",
    "def self_omikuzi():\n",
    "    omikuzi = OmikuziContent.query.all()\n",
    "    if request.method == \"POST\":\n",
    "        b = random.choice(omikuzi)\n",
    "        return render_template(\"self-result.html\", b=b)\n",
    "    return 'bad request!', 400\n",
    "\n",
    "if __name__ == \"__main__\":\n",
    "    app.run(debug=True)"
   ]
  }
 ],
 "metadata": {
  "kernelspec": {
   "display_name": "Python 3",
   "language": "python",
   "name": "python3"
  },
  "language_info": {
   "codemirror_mode": {
    "name": "ipython",
    "version": 3
   },
   "file_extension": ".py",
   "mimetype": "text/x-python",
   "name": "python",
   "nbconvert_exporter": "python",
   "pygments_lexer": "ipython3",
   "version": "3.8.5"
  }
 },
 "nbformat": 4,
 "nbformat_minor": 4
}
