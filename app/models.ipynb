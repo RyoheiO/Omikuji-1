{
 "cells": [
  {
   "cell_type": "code",
   "execution_count": null,
   "metadata": {},
   "outputs": [],
   "source": [
    "# from app import db\n",
    "#\n",
    "# class OmikuziContent(db.Model):\n",
    "#     __tablename__ = 'entries'\n",
    "#     id = db.Column(db.Integer, primary_key=True)\n",
    "#     title = db.Column(db.Text)\n",
    "#     text = db.Column(db.Text)\n",
    "#\n",
    "#     def __repr__(self):\n",
    "#         return '<Entry id={id} title={title!r}>'.format(\n",
    "#                 id=self.id, title=self.title)\n",
    "#\n",
    "# def init():\n",
    "#     db.create_all()"
   ]
  }
 ],
 "metadata": {
  "kernelspec": {
   "display_name": "Python 3",
   "language": "python",
   "name": "python3"
  },
  "language_info": {
   "codemirror_mode": {
    "name": "ipython",
    "version": 3
   },
   "file_extension": ".py",
   "mimetype": "text/x-python",
   "name": "python",
   "nbconvert_exporter": "python",
   "pygments_lexer": "ipython3",
   "version": "3.8.5"
  }
 },
 "nbformat": 4,
 "nbformat_minor": 4
}
